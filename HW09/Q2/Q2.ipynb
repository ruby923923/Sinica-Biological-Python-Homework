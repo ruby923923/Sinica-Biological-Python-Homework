{
 "cells": [
  {
   "cell_type": "code",
   "execution_count": 4,
   "metadata": {},
   "outputs": [],
   "source": [
    "import Bio\n",
    "from Bio.Seq import Seq\n",
    "from Bio.Alphabet import IUPAC\n",
    "from Bio.Alphabet import generic_dna\n",
    "from Bio.SeqRecord import SeqRecord\n",
    "from Bio import SeqIO"
   ]
  },
  {
   "cell_type": "code",
   "execution_count": 5,
   "metadata": {},
   "outputs": [],
   "source": [
    "handle = open('ciliate_ortholog.fasta','r')\n",
    "seq_list = list(SeqIO.parse(handle,'fasta'))"
   ]
  },
  {
   "cell_type": "code",
   "execution_count": 6,
   "metadata": {},
   "outputs": [],
   "source": [
    "output = open('Q2.fasta','w')\n",
    "\n",
    "for i in seq_list:\n",
    "    i_seq = i.seq\n",
    "    i_seq.alphabet = IUPAC.unambiguous_dna\n",
    "    i_aa_seq=i_seq.translate(table=6,to_stop=True)\n",
    "    i_name = i.id\n",
    "    output.write('>'+str(i_name)+'\\n')\n",
    "    output.write(str(i_aa_seq)+'\\n')\n",
    "\n",
    "output.close()    "
   ]
  },
  {
   "cell_type": "code",
   "execution_count": null,
   "metadata": {},
   "outputs": [],
   "source": []
  }
 ],
 "metadata": {
  "kernelspec": {
   "display_name": "Python 3",
   "language": "python",
   "name": "python3"
  },
  "language_info": {
   "codemirror_mode": {
    "name": "ipython",
    "version": 3
   },
   "file_extension": ".py",
   "mimetype": "text/x-python",
   "name": "python",
   "nbconvert_exporter": "python",
   "pygments_lexer": "ipython3",
   "version": "3.7.1"
  }
 },
 "nbformat": 4,
 "nbformat_minor": 2
}
