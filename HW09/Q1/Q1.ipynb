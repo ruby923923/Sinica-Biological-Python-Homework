{
 "cells": [
  {
   "cell_type": "code",
   "execution_count": 3,
   "metadata": {},
   "outputs": [],
   "source": [
    "import Bio\n",
    "from Bio.Seq import Seq\n",
    "from Bio.Alphabet import IUPAC\n",
    "from Bio.Alphabet import generic_dna\n",
    "from Bio.SeqRecord import SeqRecord\n",
    "from Bio import SeqIO\n",
    "from Bio import Entrez\n",
    "from Bio.SeqUtils.ProtParam import ProteinAnalysis"
   ]
  },
  {
   "cell_type": "code",
   "execution_count": 4,
   "metadata": {},
   "outputs": [],
   "source": [
    "Entrez.email = 'ruby923923@gmail.com'\n",
    "\n",
    "handle_nt = Entrez.efetch(db='nucleotide',id='1238813732',rettype='gb',retmode='text')\n",
    "record_nt = SeqIO.read(handle_nt,'genbank')\n",
    "\n",
    "handle_aa = Entrez.efetch(db='protein',id='10716801',rettype='gb',retmode='text')\n",
    "record_aa = SeqIO.read(handle_aa,'genbank')\n",
    "\n",
    "nt=record_nt.seq\n",
    "aa=record_aa.seq\n",
    "\n",
    "A_count = nt.count('A') \n",
    "C_count = nt.count('C') \n",
    "G_count = nt.count('G') \n",
    "T_count = nt.count('T')\n",
    "\n",
    "aa_com = ProteinAnalysis(str(aa)) \n",
    "aa_composition= aa_com.count_amino_acids()\n",
    "\n",
    "\n",
    "output = open('Q1.txt','w')\n",
    "output.write('BRCA2 nucelotide:\\n A = %d, C = %d, G = %d, T = %d' %(A_count,C_count,G_count,T_count))\n",
    "output.write('\\n')\n",
    "output.write('TOM22 amino acid:\\n %s'%aa_composition)\n",
    "output.close()\n"
   ]
  },
  {
   "cell_type": "code",
   "execution_count": null,
   "metadata": {},
   "outputs": [],
   "source": []
  }
 ],
 "metadata": {
  "kernelspec": {
   "display_name": "Python 3",
   "language": "python",
   "name": "python3"
  },
  "language_info": {
   "codemirror_mode": {
    "name": "ipython",
    "version": 3
   },
   "file_extension": ".py",
   "mimetype": "text/x-python",
   "name": "python",
   "nbconvert_exporter": "python",
   "pygments_lexer": "ipython3",
   "version": "3.7.1"
  }
 },
 "nbformat": 4,
 "nbformat_minor": 2
}
