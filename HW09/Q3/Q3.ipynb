{
 "cells": [
  {
   "cell_type": "code",
   "execution_count": 1,
   "metadata": {},
   "outputs": [],
   "source": [
    "import Bio\n",
    "import os\n",
    "from Bio.Seq import Seq\n",
    "from Bio.Alphabet import IUPAC\n",
    "from Bio.Alphabet import generic_dna\n",
    "from Bio.SeqRecord import SeqRecord\n",
    "from Bio import SeqIO\n",
    "from Bio.Seq import MutableSeq\n",
    "from Bio import AlignIO\n",
    "from Bio.Align.Applications import ClustalwCommandline"
   ]
  },
  {
   "cell_type": "code",
   "execution_count": 2,
   "metadata": {},
   "outputs": [],
   "source": [
    "handle = open('ciliate_ortholog.fasta','r')\n",
    "seq_list = list(SeqIO.parse(handle,'fasta'))\n",
    "\n",
    "def remove_set(sequence):\n",
    "    i = sequence.seq.tomutable()\n",
    "    if 's' in i:\n",
    "        pos = i.index('s')\n",
    "        i[int(pos):]=''\n",
    "    else:\n",
    "        return i \n",
    "    return i  \n",
    "\n",
    "output_rna = open('ciliate_rna.fasta','w')\n",
    "output_aa = open('ciliate_aa.fasta','w')\n",
    "\n",
    "for i in seq_list:\n",
    "    i_seq = remove_set(i)\n",
    "    i_seq.alphabet = IUPAC.unambiguous_dna\n",
    "    i_seq_toseq = i_seq.toseq()\n",
    "    i_rna_seq=i_seq_toseq.transcribe()\n",
    "    i_aa_seq=i_seq_toseq.translate(table=6,to_stop=True)\n",
    "    i_name = i.id\n",
    "    output_rna.write('>'+str(i_name)+'\\n')\n",
    "    output_rna.write(str(i_rna_seq)+'\\n')\n",
    "    output_aa.write('>'+str(i_name)+'\\n')\n",
    "    output_aa.write(str(i_aa_seq)+'\\n')   \n",
    "    \n",
    "output_rna.close()\n",
    "output_aa.close()    "
   ]
  },
  {
   "cell_type": "code",
   "execution_count": 3,
   "metadata": {},
   "outputs": [],
   "source": [
    "clustalw_rna = ClustalwCommandline(\"clustalw2\", infile=\"ciliate_rna.fasta\",outfile=\"ciliate_rna.aln\")\n",
    "clustalw_aa = ClustalwCommandline(\"clustalw2\", infile=\"ciliate_protein.fasta\",outfile=\"ciliate_protein.aln\")"
   ]
  },
  {
   "cell_type": "code",
   "execution_count": 5,
   "metadata": {},
   "outputs": [],
   "source": [
    "align_rna = list(AlignIO.read(\"ciliate_rna.aln\", \"clustal\"))\n",
    "align_aa = list(AlignIO.read(\"ciliate_protein.aln\", \"clustal\"))"
   ]
  },
  {
   "cell_type": "code",
   "execution_count": 7,
   "metadata": {},
   "outputs": [],
   "source": [
    "output_file = open('Q3.fasta','w')"
   ]
  },
  {
   "cell_type": "code",
   "execution_count": 8,
   "metadata": {},
   "outputs": [],
   "source": [
    "for i in align_rna:\n",
    "    i_seq = i.seq\n",
    "    i_id = i.id\n",
    "    for j in align_aa:\n",
    "        j_seq = j.seq\n",
    "    output_file.write('>'+str(i_id)+'\\n')\n",
    "    output_file.write(str(i_seq)+'\\n')\n",
    "    output_file.write(str(j_seq)+'\\n')\n",
    "\n",
    "\n",
    "output_file.close()"
   ]
  },
  {
   "cell_type": "code",
   "execution_count": 9,
   "metadata": {},
   "outputs": [],
   "source": [
    "from Bio import Phylo"
   ]
  },
  {
   "cell_type": "code",
   "execution_count": 14,
   "metadata": {},
   "outputs": [],
   "source": [
    "tree_rna = Phylo.read(\"ciliate_rna.dnd\",\"newick\")\n",
    "tree_protein = Phylo.read(\"ciliate_protein.dnd\",\"newick\")"
   ]
  },
  {
   "cell_type": "code",
   "execution_count": 15,
   "metadata": {},
   "outputs": [
    {
     "name": "stdout",
     "output_type": "stream",
     "text": [
      "                             _____________ PCAU.43c3d.1.T00500060\n",
      "        ____________________|\n",
      "  _____|                    |____________ PTET.51.1.T1450049\n",
      " |     |\n",
      " |     |______________________________ TTHERM_00463010glutathione\n",
      " |\n",
      " |                               ____ PCAU.43c3d.1.T00020306\n",
      " |          ____________________|\n",
      "_|_________|                    |____ PTET.51.1.T1600001\n",
      " |         |\n",
      " |         |______________________ TTHERM_00339620ubiquitin/ribosomal\n",
      " |\n",
      " |                              _______ PCAU.43c3d.1.T00520076\n",
      " |                       ______|\n",
      " |______________________|      |_______ PTET.51.1.T0390188\n",
      "                        |\n",
      "                        |______________ TTHERM_00089240intraflagellar\n",
      "\n",
      "                             _____________ PCAU.43c3d.1.T00500060\n",
      "            ________________|\n",
      "  _________|                |____________ PTET.51.1.T1450049\n",
      " |         |\n",
      " |         |_________________________ TTHERM_00463010glutathione\n",
      " |\n",
      " |                                     , PCAU.43c3d.1.T00020306\n",
      " |                  ___________________|\n",
      "_|_________________|                   | PTET.51.1.T1600001\n",
      " |                 |\n",
      " |                 |____________________ TTHERM_00339620ubiquitin/ribosomal\n",
      " |\n",
      " |                             ___ PCAU.43c3d.1.T00520076\n",
      " |               _____________|\n",
      " |______________|             |___ PTET.51.1.T0390188\n",
      "                |\n",
      "                |________________ TTHERM_00089240intraflagellar\n",
      "\n"
     ]
    }
   ],
   "source": [
    "Phylo.draw_ascii(tree_rna)\n",
    "Phylo.draw_ascii(tree_protein)"
   ]
  },
  {
   "cell_type": "code",
   "execution_count": null,
   "metadata": {},
   "outputs": [],
   "source": []
  }
 ],
 "metadata": {
  "kernelspec": {
   "display_name": "Python 3",
   "language": "python",
   "name": "python3"
  },
  "language_info": {
   "codemirror_mode": {
    "name": "ipython",
    "version": 3
   },
   "file_extension": ".py",
   "mimetype": "text/x-python",
   "name": "python",
   "nbconvert_exporter": "python",
   "pygments_lexer": "ipython3",
   "version": "3.7.1"
  }
 },
 "nbformat": 4,
 "nbformat_minor": 2
}
