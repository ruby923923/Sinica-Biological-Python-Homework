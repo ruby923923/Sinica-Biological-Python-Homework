{
 "cells": [
  {
   "cell_type": "code",
   "execution_count": 1,
   "metadata": {},
   "outputs": [],
   "source": [
    "#read file\n",
    "seq_file = 'gp9_exons_simple.txt'\n",
    "with open(seq_file,'r') as fh:\n",
    "    several_seq = fh.read()\n",
    "list_of_seq = several_seq.split()\n",
    "\n",
    "#join all exons\n",
    "a=''\n",
    "whole_gp9 = a.join(list_of_seq) \n",
    "\n",
    "#join all seq (str)\n",
    "all_seq = several_seq +'\\n'+ whole_gp9\n",
    "\n",
    "#convert to (list)\n",
    "list_of_all_seq = all_seq.split()\n",
    "\n",
    "#write file\n",
    "outfile = open('Reverse complement.txt','w')\n",
    "\n",
    "#reverse seq\n",
    "i = 1\n",
    "for exon in list_of_all_seq:    \n",
    "    if i < len(list_of_all_seq):\n",
    "        outfile.write('>exon' + str(i)+'\\n')        \n",
    "    else:\n",
    "        outfile.write('>whole_gp9'+'\\n')\n",
    "    outfile.write(exon.upper().replace('A','temp').replace('T','A').replace('temp','T').replace('G','temp').replace('C','G').replace('temp','C')[::-1]+'\\n')\n",
    "    i += 1\n",
    "outfile.close()"
   ]
  },
  {
   "cell_type": "code",
   "execution_count": null,
   "metadata": {},
   "outputs": [],
   "source": []
  }
 ],
 "metadata": {
  "kernelspec": {
   "display_name": "Python 3",
   "language": "python",
   "name": "python3"
  },
  "language_info": {
   "codemirror_mode": {
    "name": "ipython",
    "version": 3
   },
   "file_extension": ".py",
   "mimetype": "text/x-python",
   "name": "python",
   "nbconvert_exporter": "python",
   "pygments_lexer": "ipython3",
   "version": "3.7.0"
  }
 },
 "nbformat": 4,
 "nbformat_minor": 2
}
