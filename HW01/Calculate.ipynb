{
 "cells": [
  {
   "cell_type": "code",
   "execution_count": 9,
   "metadata": {},
   "outputs": [
    {
     "name": "stdout",
     "output_type": "stream",
     "text": [
      ">exon1\n",
      "atgaagacgttcgtattgcatatttttatttttgctctcgtg\n",
      "AT = 19.047619047619047%\n",
      ">exon2\n",
      "gctttcgcttctgcatctcgtgatagcgcgaggaagataggatcccaatatgacaattacgcgacttgcttagccgaacatagtctaacagagg\n",
      "AT = 27.659574468085108%\n",
      ">exon3\n",
      "atgacatcttctcgattggtgaagtatcaagtggccagcacaaaaccaatcatgaagataccgaactacacaaaaatggttgcgtcatgcaatgtttgttagaaaaagatggactg\n",
      "AT = 36.206896551724135%\n",
      ">exon4\n",
      "atgtctggagctgattatgatgaagagaaaatgcgtgaggactatatcaaggaaacaggtgctcaaccaggagatcaaaggatagaagctctgaatgcctgcatgcaagaaa\n",
      "AT = 37.5%\n",
      ">exon5\n",
      "caaaagacatggaggataaatgtgacaaaagcttgctccttgtagcatgtgtcttagcagctgaagctgtgctcgccgattctaacgaaggagcataagaaatgcaattaaaaacagctggcatacaaccattatatgaaaatttgcaacatatagcattttaaataaagaaataaaattatacagctttcttttgtattgacatgttaaaataatactatgaataaatttgattcaataaagcaattttgttaaaaaggaaaaa\n",
      "AT = 41.132075471698116%\n",
      ">whole_gp9\n",
      "atgaagacgttcgtattgcatatttttatttttgctctcgtggctttcgcttctgcatctcgtgatagcgcgaggaagataggatcccaatatgacaattacgcgacttgcttagccgaacatagtctaacagaggatgacatcttctcgattggtgaagtatcaagtggccagcacaaaaccaatcatgaagataccgaactacacaaaaatggttgcgtcatgcaatgtttgttagaaaaagatggactgatgtctggagctgattatgatgaagagaaaatgcgtgaggactatatcaaggaaacaggtgctcaaccaggagatcaaaggatagaagctctgaatgcctgcatgcaagaaacaaaagacatggaggataaatgtgacaaaagcttgctccttgtagcatgtgtcttagcagctgaagctgtgctcgccgattctaacgaaggagcataagaaatgcaattaaaaacagctggcatacaaccattatatgaaaatttgcaacatatagcattttaaataaagaaataaaattatacagctttcttttgtattgacatgttaaaataatactatgaataaatttgattcaataaagcaattttgttaaaaaggaaaaa\n",
      "AT = 36.089030206677265%\n"
     ]
    }
   ],
   "source": [
    "#read file\n",
    "seq_file = 'gp9_exons_simple.txt'\n",
    "with open(seq_file,'r') as fh:\n",
    "    several_seq = fh.read()\n",
    "list_of_seq = several_seq.split()\n",
    "\n",
    "#join all exons\n",
    "a=''\n",
    "whole_gp9 = a.join(list_of_seq) \n",
    "\n",
    "#join all seq (str)\n",
    "all_seq = several_seq +'\\n'+ whole_gp9\n",
    "\n",
    "#convert to (list)\n",
    "list_of_all_seq = all_seq.split()\n",
    "\n",
    "#reverse seq\n",
    "i = 1\n",
    "for exon in list_of_all_seq:    \n",
    "    if i < len(list_of_all_seq):\n",
    "        print('>exon' + str(i))        \n",
    "    else:\n",
    "        print('>whole_gp9')\n",
    "    print (exon)\n",
    "    A = exon.count('a')\n",
    "    T = exon.count('T')\n",
    "    length = len(exon)\n",
    "    print ('AT = ' + str((A+T)/length*100) +'%')\n",
    "    i += 1\n",
    "\n"
   ]
  },
  {
   "cell_type": "code",
   "execution_count": null,
   "metadata": {},
   "outputs": [],
   "source": []
  },
  {
   "cell_type": "code",
   "execution_count": null,
   "metadata": {},
   "outputs": [],
   "source": []
  }
 ],
 "metadata": {
  "kernelspec": {
   "display_name": "Python 3",
   "language": "python",
   "name": "python3"
  },
  "language_info": {
   "codemirror_mode": {
    "name": "ipython",
    "version": 3
   },
   "file_extension": ".py",
   "mimetype": "text/x-python",
   "name": "python",
   "nbconvert_exporter": "python",
   "pygments_lexer": "ipython3",
   "version": "3.7.0"
  }
 },
 "nbformat": 4,
 "nbformat_minor": 2
}
