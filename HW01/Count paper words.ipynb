{
 "cells": [
  {
   "cell_type": "code",
   "execution_count": 21,
   "metadata": {},
   "outputs": [
    {
     "name": "stdout",
     "output_type": "stream",
     "text": [
      "The number of 'The'and'the'is: 96\n",
      "The number of 'and'is: 21\n"
     ]
    }
   ],
   "source": [
    "paper = 'watson_crick_paper.txt'\n",
    "\n",
    "with open(paper,'r',encoding='utf-8') as fh:\n",
    "    f = fh.read()\n",
    "list1 = f.split() \n",
    "\n",
    "a = 0\n",
    "b = 0\n",
    "c = 0\n",
    "for word in list1:\n",
    "    if word =='the':\n",
    "        a += 1\n",
    "    elif word =='The':\n",
    "        b += 1\n",
    "    elif word =='and':\n",
    "        c += 1\n",
    "        \n",
    "print (\"The number of 'The'and'the'is: \" + str(a+b))\n",
    "print (\"The number of 'and'is: \" + str(c))"
   ]
  },
  {
   "cell_type": "code",
   "execution_count": null,
   "metadata": {},
   "outputs": [],
   "source": []
  }
 ],
 "metadata": {
  "kernelspec": {
   "display_name": "Python 3",
   "language": "python",
   "name": "python3"
  },
  "language_info": {
   "codemirror_mode": {
    "name": "ipython",
    "version": 3
   },
   "file_extension": ".py",
   "mimetype": "text/x-python",
   "name": "python",
   "nbconvert_exporter": "python",
   "pygments_lexer": "ipython3",
   "version": "3.7.0"
  }
 },
 "nbformat": 4,
 "nbformat_minor": 2
}
