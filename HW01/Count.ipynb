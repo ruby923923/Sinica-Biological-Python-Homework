{
 "cells": [
  {
   "cell_type": "code",
   "execution_count": 10,
   "metadata": {},
   "outputs": [
    {
     "name": "stdout",
     "output_type": "stream",
     "text": [
      ">exon1\n",
      "atgaagacgttcgtattgcatatttttatttttgctctcgtg\n",
      "a = 8\n",
      "c = 6\n",
      "g = 8\n",
      "t = 20\n",
      "\n",
      ">exon2\n",
      "gctttcgcttctgcatctcgtgatagcgcgaggaagataggatcccaatatgacaattacgcgacttgcttagccgaacatagtctaacagagg\n",
      "a = 26\n",
      "c = 22\n",
      "g = 23\n",
      "t = 23\n",
      "\n",
      ">exon3\n",
      "atgacatcttctcgattggtgaagtatcaagtggccagcacaaaaccaatcatgaagataccgaactacacaaaaatggttgcgtcatgcaatgtttgttagaaaaagatggactg\n",
      "a = 42\n",
      "c = 21\n",
      "g = 25\n",
      "t = 28\n",
      "\n",
      ">exon4\n",
      "atgtctggagctgattatgatgaagagaaaatgcgtgaggactatatcaaggaaacaggtgctcaaccaggagatcaaaggatagaagctctgaatgcctgcatgcaagaaa\n",
      "a = 42\n",
      "c = 17\n",
      "g = 31\n",
      "t = 22\n",
      "\n",
      ">exon5\n",
      "caaaagacatggaggataaatgtgacaaaagcttgctccttgtagcatgtgtcttagcagctgaagctgtgctcgccgattctaacgaaggagcataagaaatgcaattaaaaacagctggcatacaaccattatatgaaaatttgcaacatatagcattttaaataaagaaataaaattatacagctttcttttgtattgacatgttaaaataatactatgaataaatttgattcaataaagcaattttgttaaaaaggaaaaa\n",
      "a = 109\n",
      "c = 36\n",
      "g = 44\n",
      "t = 76\n",
      "\n"
     ]
    }
   ],
   "source": [
    "#read file\n",
    "seq_file = 'gp9_exons_simple.txt'\n",
    "with open(seq_file,'r') as fh:\n",
    "    several_seq = fh.read()\n",
    "list_of_seq = several_seq.split()\n",
    "\n",
    "i = 1\n",
    "for exon in list_of_seq:\n",
    "    print ('>exon' + str(i))\n",
    "    print (exon)\n",
    "    print ('a = ' + str(exon.count('a')))\n",
    "    print ('c = ' + str(exon.count('c')))\n",
    "    print ('g = ' + str(exon.count('g')))\n",
    "    print ('t = ' + str(exon.count('t')))\n",
    "    print()\n",
    "    i += 1\n",
    "\n",
    "\n"
   ]
  },
  {
   "cell_type": "code",
   "execution_count": null,
   "metadata": {},
   "outputs": [],
   "source": []
  },
  {
   "cell_type": "code",
   "execution_count": null,
   "metadata": {},
   "outputs": [],
   "source": []
  }
 ],
 "metadata": {
  "kernelspec": {
   "display_name": "Python 3",
   "language": "python",
   "name": "python3"
  },
  "language_info": {
   "codemirror_mode": {
    "name": "ipython",
    "version": 3
   },
   "file_extension": ".py",
   "mimetype": "text/x-python",
   "name": "python",
   "nbconvert_exporter": "python",
   "pygments_lexer": "ipython3",
   "version": "3.7.0"
  }
 },
 "nbformat": 4,
 "nbformat_minor": 2
}
