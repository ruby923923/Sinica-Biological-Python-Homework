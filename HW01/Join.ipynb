{
 "cells": [
  {
   "cell_type": "code",
   "execution_count": 5,
   "metadata": {},
   "outputs": [],
   "source": [
    "#read file\n",
    "seq_file = 'gp9_exons_simple.txt'\n",
    "with open(seq_file,'r') as fh:\n",
    "    several_seq = fh.read()\n",
    "list_of_seq = several_seq.split()\n",
    "\n",
    "#join all exons\n",
    "a=''\n",
    "whole_gp9 = a.join(list_of_seq) \n",
    "\n",
    "#write file \n",
    "outfile = open('Join.txt','w')\n",
    "outfile.write('>gp9_cDNA'+'\\n')\n",
    "outfile.write(whole_gp9.upper()+'\\n')\n",
    "outfile.write('>gp9_mRNA'+'\\n')\n",
    "outfile.write(whole_gp9.upper().replace('T','U'))\n",
    "\n",
    "outfile.close()\n"
   ]
  },
  {
   "cell_type": "code",
   "execution_count": null,
   "metadata": {},
   "outputs": [],
   "source": []
  },
  {
   "cell_type": "code",
   "execution_count": null,
   "metadata": {},
   "outputs": [],
   "source": []
  }
 ],
 "metadata": {
  "kernelspec": {
   "display_name": "Python 3",
   "language": "python",
   "name": "python3"
  },
  "language_info": {
   "codemirror_mode": {
    "name": "ipython",
    "version": 3
   },
   "file_extension": ".py",
   "mimetype": "text/x-python",
   "name": "python",
   "nbconvert_exporter": "python",
   "pygments_lexer": "ipython3",
   "version": "3.7.0"
  }
 },
 "nbformat": 4,
 "nbformat_minor": 2
}
