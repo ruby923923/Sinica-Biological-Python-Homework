{
 "cells": [
  {
   "cell_type": "code",
   "execution_count": 13,
   "metadata": {},
   "outputs": [
    {
     "name": "stdout",
     "output_type": "stream",
     "text": [
      "Allison Neu 555-8396\n",
      "C. Montgomery Burns None\n",
      "Lionel Putz 555-5299\n",
      "Homer Jay Simpson 555-7334\n"
     ]
    }
   ],
   "source": [
    "import re\n",
    "\n",
    "Input = [\"555-8396 Neu, Allison\", \"Burns, C. Montgomery\", \"555-5299 Putz, Lionel\",\"555-7334 Simpson, Homer Jay\"]\n",
    "\n",
    "string = str(Input)\n",
    "pattern = r'(?P<phone>\\d{3}-\\d{4})?\\s?(?P<last>\\w+),\\s(?P<first>\\w*\\.?\\s?\\w*)'\n",
    "output1 = re.finditer(pattern,string)\n",
    "\n",
    "for i in output1:\n",
    "    phone_nub = i.group('phone')\n",
    "    last_name = i.group('last')\n",
    "    first_name = i.group('first')\n",
    "    \n",
    "    print(first_name,last_name,phone_nub)\n",
    "\n",
    "    \n",
    "    "
   ]
  },
  {
   "cell_type": "code",
   "execution_count": null,
   "metadata": {},
   "outputs": [],
   "source": []
  }
 ],
 "metadata": {
  "kernelspec": {
   "display_name": "Python 3",
   "language": "python",
   "name": "python3"
  },
  "language_info": {
   "codemirror_mode": {
    "name": "ipython",
    "version": 3
   },
   "file_extension": ".py",
   "mimetype": "text/x-python",
   "name": "python",
   "nbconvert_exporter": "python",
   "pygments_lexer": "ipython3",
   "version": "3.7.1"
  }
 },
 "nbformat": 4,
 "nbformat_minor": 2
}
