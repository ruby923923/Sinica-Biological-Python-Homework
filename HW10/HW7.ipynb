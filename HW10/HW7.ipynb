{
 "cells": [
  {
   "cell_type": "code",
   "execution_count": 138,
   "metadata": {},
   "outputs": [],
   "source": [
    "import Bio\n",
    "import os\n",
    "import re\n",
    "import csv\n",
    "from Bio.Seq import Seq\n",
    "from Bio.Alphabet import IUPAC\n",
    "from Bio.Alphabet import generic_dna\n",
    "from Bio.SeqRecord import SeqRecord\n",
    "from Bio import SeqIO\n",
    "from Bio.Seq import MutableSeq\n",
    "from Bio import AlignIO\n",
    "from Bio.Align.Applications import ClustalwCommandline"
   ]
  },
  {
   "cell_type": "code",
   "execution_count": 139,
   "metadata": {},
   "outputs": [
    {
     "data": {
      "text/plain": [
       "SeqRecord(seq=Seq('ATGGCTGATTAATTGACATTAGGATACTGGGGAATCAGAGGTCTAGGGTAGCCT...TGA', SingleLetterAlphabet()), id='PCAU.43c3d.1.T00500060', name='PCAU.43c3d.1.T00500060', description='PCAU.43c3d.1.T00500060', dbxrefs=[])"
      ]
     },
     "execution_count": 139,
     "metadata": {},
     "output_type": "execute_result"
    }
   ],
   "source": [
    "handle = open('ciliate_gene.fasta','r')\n",
    "sequence_read = SeqIO.read(handle,'fasta')\n",
    "sequence_read"
   ]
  },
  {
   "cell_type": "code",
   "execution_count": 140,
   "metadata": {},
   "outputs": [
    {
     "name": "stdout",
     "output_type": "stream",
     "text": [
      "ATGGCTGATTAATTGACATTAGGATACTGGGGAATCAGAGGTCTAGGGTAGCCTTTGCGATATTATCTTGAATACCTTGGTTTACCTTATTAGGATAAAAGATACATGTCACCAGAAGAATGGTTTGGGGAAGTTGCCTAACCTCCTCTAAGCAATCAAGTTTTGGTTAACTTGCCATACATAAAGGATGGAGATAGGTGGATTTTCGAAAGCCAGGCTCTCTACGTGTACTTAGCTCATAAAGCCAACAGGACTGACCTCTTAGGGTCGACACCTGAAGAATAGGTGACTGTGGCTTAGGCAAGAGGGGTTCTGTAAGATGTTTTCAAAGTCTTCTACTCATTGCTTGTTCTTCCAGAAGAATAATATTAGGCTTAAAAAGCAGACTACTTCAAAAAGGAAGTGATGTGGCTTCTAGAAAAGCTAAATAAGTTCCTTGATGGAAAGAAGTGGGTGGCAGGTGGCAATCTCACATACATGGACTTCACAATTTATGAATTTGAGGAAACCTTGCAAGCTTATGATCCAGAAACTTTCGATCAATTACCATCCCTCAAGAAACATCAAGAAGAGTTTGCAAACCTTCCAAAAATCAAGGAATATATTGTTTCAGATAAATTTTTGGCAAGACCCTTTTTACCTCCTGACAGATGTAGATGGTATTGA\n",
      "MADQLTLGYWGIRGLGQPLRYYLEYLGLPYQDKRYMSPEEWFGEVAQPPLSNQVLVNLPYIKDGDRWIFESQALYVYLAHKANRTDLLGSTPEEQVTVAQARGVLQDVFKVFYSLLVLPEEQYQAQKADYFKKEVMWLLEKLNKFLDGKKWVAGGNLTYMDFTIYEFEETLQAYDPETFDQLPSLKKHQEEFANLPKIKEYIVSDKFLARPFLPPDRCRWY\n"
     ]
    }
   ],
   "source": [
    "sequence = sequence_read.seq\n",
    "sequence.alphabet = IUPAC.unambiguous_dna\n",
    "seq_translate = sequence.translate(table=6,to_stop=True)\n",
    "print(sequence)\n",
    "print(seq_translate)"
   ]
  },
  {
   "cell_type": "code",
   "execution_count": 141,
   "metadata": {},
   "outputs": [],
   "source": [
    "pattern1 = r'\\w{3}'\n",
    "output1 = re.findall(pattern1,str(sequence))\n",
    "codon = list(output1)"
   ]
  },
  {
   "cell_type": "code",
   "execution_count": 142,
   "metadata": {},
   "outputs": [],
   "source": [
    "dir1 = {}\n",
    "for s in codon:\n",
    "    if s in dir1:\n",
    "        dir1[s] = dir1[s] + 1\n",
    "    else:\n",
    "        dir1[s] = 1\n",
    "dir1key = list(dir1.keys())\n",
    "dir1value = list(dir1.values())\n",
    "\n",
    "total_fre = 0\n",
    "for i in dir1value:\n",
    "    total_fre = total_fre +i\n",
    "\n",
    "frequency1 = []    \n",
    "for j in dir1value:\n",
    "    fre = j/total_fre*100\n",
    "    fre = round(fre,2)\n",
    "    frequency1.append(fre)\n",
    "    \n",
    "    \n",
    "f_list = []\n",
    "for i in dir1key:\n",
    "    find = i\n",
    "    x = [str(j)+'-'+str(j+2) for j,v in enumerate(codon) if v==find]\n",
    "    for j in frequency1:\n",
    "        y = frequency1[dir1key.index(i)]\n",
    "    f_list.append(i)\n",
    "    f_list.append(y)\n",
    "    f_list.append(x)\n"
   ]
  },
  {
   "cell_type": "code",
   "execution_count": 143,
   "metadata": {},
   "outputs": [],
   "source": [
    "pattern2 = r'\\w{1}'\n",
    "output2 = re.findall(pattern2,str(seq_translate))\n",
    "codon2 = list(output2)"
   ]
  },
  {
   "cell_type": "code",
   "execution_count": 152,
   "metadata": {},
   "outputs": [],
   "source": [
    "dir2 = {}\n",
    "for t in codon2:\n",
    "    if t in dir2:\n",
    "        dir2[t] = dir2[t] + 1\n",
    "    else:\n",
    "        dir2[t] = 1\n",
    "dir2key = list(dir2.keys())\n",
    "dir2value = list(dir2.values())\n",
    "\n",
    "total_fre2 = 0\n",
    "for i in dir2value:\n",
    "    total_fre2 = total_fre2 +i\n",
    "\n",
    "frequency2 = []    \n",
    "for j in dir1value:\n",
    "    fre = j/total_fre2*100\n",
    "    fre = round(fre,2)\n",
    "    frequency2.append(fre)\n",
    "    \n",
    "    \n",
    "for i in dir2key:\n",
    "    find = i\n",
    "    x = [str(j) for j,v in enumerate(codon2) if v==find]\n",
    "    for j in frequency2:\n",
    "        y = frequency2[dir2key.index(i)]\n",
    "    f_list.append(i)\n",
    "    f_list.append(y)\n",
    "    f_list.append(x)\n",
    "        "
   ]
  },
  {
   "cell_type": "code",
   "execution_count": 159,
   "metadata": {},
   "outputs": [],
   "source": [
    "with open('HW7.csv', 'w', newline='') as csvfile:\n",
    "    writer = csv.writer(csvfile)\n",
    "    writer.writerow(['codon\\amino acid', 'frequency', 'position'])\n",
    "\n",
    "    for i in range(len(f_list)-2):\n",
    "        z = []\n",
    "        z.append(f_list[i])\n",
    "        z.append(f_list[i+1])\n",
    "        z.append(f_list[i+2])\n",
    "        writer.writerow(z)"
   ]
  }
 ],
 "metadata": {
  "kernelspec": {
   "display_name": "Python 3",
   "language": "python",
   "name": "python3"
  },
  "language_info": {
   "codemirror_mode": {
    "name": "ipython",
    "version": 3
   },
   "file_extension": ".py",
   "mimetype": "text/x-python",
   "name": "python",
   "nbconvert_exporter": "python",
   "pygments_lexer": "ipython3",
   "version": "3.7.1"
  }
 },
 "nbformat": 4,
 "nbformat_minor": 2
}
