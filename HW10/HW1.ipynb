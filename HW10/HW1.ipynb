{
 "cells": [
  {
   "cell_type": "code",
   "execution_count": 45,
   "metadata": {},
   "outputs": [
    {
     "name": "stdout",
     "output_type": "stream",
     "text": [
      "The quick brown wolf jumps over the lazy dog.\n",
      "THE quick brown FOX jumps over the lazy DOG.\n"
     ]
    }
   ],
   "source": [
    "import re\n",
    "string = 'The quick brown fox jumps over the lazy dog.'\n",
    "\n",
    "output1 = re.sub(r'fox','wolf',string)\n",
    "\n",
    "output2_1 = re.sub(r'The','THE',string)\n",
    "output2_2 = re.sub(r'fox','FOX',output2_1)\n",
    "output2 = re.sub(r'dog','DOG',output2_2)\n",
    "\n",
    "\n",
    "print(output1)\n",
    "print(output2)\n",
    "\n"
   ]
  }
 ],
 "metadata": {
  "kernelspec": {
   "display_name": "Python 3",
   "language": "python",
   "name": "python3"
  },
  "language_info": {
   "codemirror_mode": {
    "name": "ipython",
    "version": 3
   },
   "file_extension": ".py",
   "mimetype": "text/x-python",
   "name": "python",
   "nbconvert_exporter": "python",
   "pygments_lexer": "ipython3",
   "version": "3.7.0"
  }
 },
 "nbformat": 4,
 "nbformat_minor": 2
}
