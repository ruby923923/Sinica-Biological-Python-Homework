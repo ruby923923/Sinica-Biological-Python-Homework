{
 "cells": [
  {
   "cell_type": "code",
   "execution_count": 56,
   "metadata": {},
   "outputs": [
    {
     "name": "stdout",
     "output_type": "stream",
     "text": [
      "7-16:carefully\n",
      "40-47:quickly\n"
     ]
    }
   ],
   "source": [
    "import re\n",
    "\n",
    "text = 'He was carefully disguised but captured quickly by police.'\n",
    "\n",
    "compile_p = re.compile(r'\\S\\w*ly')\n",
    "\n",
    "output1 = compile_p.finditer(text)\n",
    "\n",
    "for m in output1:\n",
    "    s = m.start()\n",
    "    e = m.end()\n",
    "    adv = m.group()\n",
    "    print('%d-%d:%s' % (s,e,adv))"
   ]
  },
  {
   "cell_type": "code",
   "execution_count": null,
   "metadata": {},
   "outputs": [],
   "source": []
  }
 ],
 "metadata": {
  "kernelspec": {
   "display_name": "Python 3",
   "language": "python",
   "name": "python3"
  },
  "language_info": {
   "codemirror_mode": {
    "name": "ipython",
    "version": 3
   },
   "file_extension": ".py",
   "mimetype": "text/x-python",
   "name": "python",
   "nbconvert_exporter": "python",
   "pygments_lexer": "ipython3",
   "version": "3.7.1"
  }
 },
 "nbformat": 4,
 "nbformat_minor": 2
}
